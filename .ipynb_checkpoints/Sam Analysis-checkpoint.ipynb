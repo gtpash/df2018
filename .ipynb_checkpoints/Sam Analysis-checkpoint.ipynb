{
 "cells": [
  {
   "cell_type": "code",
   "execution_count": 1,
   "metadata": {
    "collapsed": true
   },
   "outputs": [],
   "source": [
    "import pandas as pd\n",
    "import numpy as np"
   ]
  },
  {
   "cell_type": "code",
   "execution_count": 2,
   "metadata": {
    "collapsed": true
   },
   "outputs": [],
   "source": [
    "mortality=pd.read_table(\"data/Compressed Mortality, 1999-2016.txt\")\n",
    "data=pd.read_csv(\"data/datafest2018.csv\")"
   ]
  },
  {
   "cell_type": "code",
   "execution_count": 4,
   "metadata": {
    "collapsed": true
   },
   "outputs": [],
   "source": [
    "mortality=mortality.drop(\"Notes\", axis=1)"
   ]
  },
  {
   "cell_type": "code",
   "execution_count": 5,
   "metadata": {
    "collapsed": true
   },
   "outputs": [],
   "source": [
    "mortality=mortality[0:51]"
   ]
  },
  {
   "cell_type": "code",
   "execution_count": 6,
   "metadata": {
    "collapsed": true
   },
   "outputs": [],
   "source": [
    "US=data[data[\"country\"]==\"US\"]"
   ]
  },
  {
   "cell_type": "code",
   "execution_count": 7,
   "metadata": {},
   "outputs": [
    {
     "data": {
      "text/plain": [
       "array(['TX', 'MA', 'FL', 'NV', 'NY', 'NC', 'OH', 'IL', 'PA', 'MI', 'MN',\n",
       "       'CA', 'AZ', 'IN', 'CT', 'TN', 'NH', 'MO', 'NJ', 'CO', 'GA', 'KY',\n",
       "       'ID', 'DC', 'VA', 'MS', 'UNKNOWN', 'MD', 'RI', 'ME', 'IA', 'WI',\n",
       "       'SC', 'WV', 'OK', 'WA', 'AL', 'NM', 'UT', 'LA', 'AR', 'DE', 'OR',\n",
       "       'PR', 'HI', 'SD', 'MT', 'NE', 'KS', 'AK', 'VT', 'ND', 'WY', 'VI',\n",
       "       'GU', 'AS', 'MP', 'UM'], dtype=object)"
      ]
     },
     "execution_count": 7,
     "metadata": {},
     "output_type": "execute_result"
    }
   ],
   "source": [
    "US.stateProvince.unique()"
   ]
  },
  {
   "cell_type": "code",
   "execution_count": 8,
   "metadata": {
    "collapsed": true
   },
   "outputs": [],
   "source": [
    "USHealth=US[US[\"industry\"]==\"HEALTH_CARE\"]"
   ]
  },
  {
   "cell_type": "code",
   "execution_count": 11,
   "metadata": {
    "collapsed": true
   },
   "outputs": [],
   "source": [
    "states=USHealth.groupby(\"stateProvince\")\n",
    "jobsByState=pd.DataFrame(states.jobId.nunique())"
   ]
  },
  {
   "cell_type": "code",
   "execution_count": 14,
   "metadata": {},
   "outputs": [
    {
     "data": {
      "text/plain": [
       "array(['jobId'], dtype=object)"
      ]
     },
     "execution_count": 14,
     "metadata": {},
     "output_type": "execute_result"
    }
   ],
   "source": [
    "jobsByState.columns.values"
   ]
  },
  {
   "cell_type": "code",
   "execution_count": 16,
   "metadata": {},
   "outputs": [],
   "source": [
    "\n",
    "jobsByState=jobsByState[jobsByState.index!=\"UNKNOWN\"]"
   ]
  },
  {
   "cell_type": "code",
   "execution_count": 18,
   "metadata": {},
   "outputs": [],
   "source": [
    "jobsByState.to_csv(\"healthJobsByState.csv\")"
   ]
  },
  {
   "cell_type": "code",
   "execution_count": 23,
   "metadata": {},
   "outputs": [],
   "source": [
    "pop = pd.read_csv(\"data/US_Pop.csv\", header=1)"
   ]
  },
  {
   "cell_type": "code",
   "execution_count": 29,
   "metadata": {},
   "outputs": [],
   "source": [
    "pop=pop[5:57]"
   ]
  },
  {
   "cell_type": "code",
   "execution_count": 30,
   "metadata": {},
   "outputs": [
    {
     "data": {
      "text/html": [
       "<div>\n",
       "<table border=\"1\" class=\"dataframe\">\n",
       "  <thead>\n",
       "    <tr style=\"text-align: right;\">\n",
       "      <th></th>\n",
       "      <th>Id</th>\n",
       "      <th>Id2</th>\n",
       "      <th>Geography</th>\n",
       "      <th>April 1, 2010 - Census</th>\n",
       "      <th>April 1, 2010 - Estimates Base</th>\n",
       "      <th>Population Estimate (as of July 1) - 2010</th>\n",
       "      <th>Population Estimate (as of July 1) - 2011</th>\n",
       "      <th>Population Estimate (as of July 1) - 2012</th>\n",
       "      <th>Population Estimate (as of July 1) - 2013</th>\n",
       "      <th>Population Estimate (as of July 1) - 2014</th>\n",
       "      <th>Population Estimate (as of July 1) - 2015</th>\n",
       "      <th>Population Estimate (as of July 1) - 2016</th>\n",
       "      <th>Population Estimate (as of July 1) - 2017</th>\n",
       "    </tr>\n",
       "  </thead>\n",
       "  <tbody>\n",
       "    <tr>\n",
       "      <th>5</th>\n",
       "      <td>0400000US01</td>\n",
       "      <td>1.0</td>\n",
       "      <td>Alabama</td>\n",
       "      <td>4779736</td>\n",
       "      <td>4780135</td>\n",
       "      <td>4785579</td>\n",
       "      <td>4798649</td>\n",
       "      <td>4813946</td>\n",
       "      <td>4827660</td>\n",
       "      <td>4840037</td>\n",
       "      <td>4850858</td>\n",
       "      <td>4860545</td>\n",
       "      <td>4874747</td>\n",
       "    </tr>\n",
       "    <tr>\n",
       "      <th>6</th>\n",
       "      <td>0400000US02</td>\n",
       "      <td>2.0</td>\n",
       "      <td>Alaska</td>\n",
       "      <td>710231</td>\n",
       "      <td>710249</td>\n",
       "      <td>714015</td>\n",
       "      <td>722259</td>\n",
       "      <td>730825</td>\n",
       "      <td>736760</td>\n",
       "      <td>736759</td>\n",
       "      <td>737979</td>\n",
       "      <td>741522</td>\n",
       "      <td>739795</td>\n",
       "    </tr>\n",
       "    <tr>\n",
       "      <th>7</th>\n",
       "      <td>0400000US04</td>\n",
       "      <td>4.0</td>\n",
       "      <td>Arizona</td>\n",
       "      <td>6392017</td>\n",
       "      <td>6392309</td>\n",
       "      <td>6407002</td>\n",
       "      <td>6465488</td>\n",
       "      <td>6544211</td>\n",
       "      <td>6616124</td>\n",
       "      <td>6706435</td>\n",
       "      <td>6802262</td>\n",
       "      <td>6908642</td>\n",
       "      <td>7016270</td>\n",
       "    </tr>\n",
       "    <tr>\n",
       "      <th>8</th>\n",
       "      <td>0400000US05</td>\n",
       "      <td>5.0</td>\n",
       "      <td>Arkansas</td>\n",
       "      <td>2915918</td>\n",
       "      <td>2916031</td>\n",
       "      <td>2921737</td>\n",
       "      <td>2938640</td>\n",
       "      <td>2949208</td>\n",
       "      <td>2956780</td>\n",
       "      <td>2964800</td>\n",
       "      <td>2975626</td>\n",
       "      <td>2988231</td>\n",
       "      <td>3004279</td>\n",
       "    </tr>\n",
       "    <tr>\n",
       "      <th>9</th>\n",
       "      <td>0400000US06</td>\n",
       "      <td>6.0</td>\n",
       "      <td>California</td>\n",
       "      <td>37253956</td>\n",
       "      <td>37254518</td>\n",
       "      <td>37327690</td>\n",
       "      <td>37672654</td>\n",
       "      <td>38019006</td>\n",
       "      <td>38347383</td>\n",
       "      <td>38701278</td>\n",
       "      <td>39032444</td>\n",
       "      <td>39296476</td>\n",
       "      <td>39536653</td>\n",
       "    </tr>\n",
       "  </tbody>\n",
       "</table>\n",
       "</div>"
      ],
      "text/plain": [
       "            Id  Id2   Geography  April 1, 2010 - Census  \\\n",
       "5  0400000US01  1.0     Alabama                 4779736   \n",
       "6  0400000US02  2.0      Alaska                  710231   \n",
       "7  0400000US04  4.0     Arizona                 6392017   \n",
       "8  0400000US05  5.0    Arkansas                 2915918   \n",
       "9  0400000US06  6.0  California                37253956   \n",
       "\n",
       "   April 1, 2010 - Estimates Base  Population Estimate (as of July 1) - 2010  \\\n",
       "5                         4780135                                    4785579   \n",
       "6                          710249                                     714015   \n",
       "7                         6392309                                    6407002   \n",
       "8                         2916031                                    2921737   \n",
       "9                        37254518                                   37327690   \n",
       "\n",
       "   Population Estimate (as of July 1) - 2011  \\\n",
       "5                                    4798649   \n",
       "6                                     722259   \n",
       "7                                    6465488   \n",
       "8                                    2938640   \n",
       "9                                   37672654   \n",
       "\n",
       "   Population Estimate (as of July 1) - 2012  \\\n",
       "5                                    4813946   \n",
       "6                                     730825   \n",
       "7                                    6544211   \n",
       "8                                    2949208   \n",
       "9                                   38019006   \n",
       "\n",
       "   Population Estimate (as of July 1) - 2013  \\\n",
       "5                                    4827660   \n",
       "6                                     736760   \n",
       "7                                    6616124   \n",
       "8                                    2956780   \n",
       "9                                   38347383   \n",
       "\n",
       "   Population Estimate (as of July 1) - 2014  \\\n",
       "5                                    4840037   \n",
       "6                                     736759   \n",
       "7                                    6706435   \n",
       "8                                    2964800   \n",
       "9                                   38701278   \n",
       "\n",
       "   Population Estimate (as of July 1) - 2015  \\\n",
       "5                                    4850858   \n",
       "6                                     737979   \n",
       "7                                    6802262   \n",
       "8                                    2975626   \n",
       "9                                   39032444   \n",
       "\n",
       "   Population Estimate (as of July 1) - 2016  \\\n",
       "5                                    4860545   \n",
       "6                                     741522   \n",
       "7                                    6908642   \n",
       "8                                    2988231   \n",
       "9                                   39296476   \n",
       "\n",
       "   Population Estimate (as of July 1) - 2017  \n",
       "5                                    4874747  \n",
       "6                                     739795  \n",
       "7                                    7016270  \n",
       "8                                    3004279  \n",
       "9                                   39536653  "
      ]
     },
     "execution_count": 30,
     "metadata": {},
     "output_type": "execute_result"
    }
   ],
   "source": [
    "pop.head()"
   ]
  }
 ],
 "metadata": {
  "anaconda-cloud": {},
  "kernelspec": {
   "display_name": "Python [default]",
   "language": "python",
   "name": "python3"
  },
  "language_info": {
   "codemirror_mode": {
    "name": "ipython",
    "version": 3
   },
   "file_extension": ".py",
   "mimetype": "text/x-python",
   "name": "python",
   "nbconvert_exporter": "python",
   "pygments_lexer": "ipython3",
   "version": "3.5.2"
  }
 },
 "nbformat": 4,
 "nbformat_minor": 1
}
