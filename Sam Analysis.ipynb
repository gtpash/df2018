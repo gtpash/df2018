{
 "cells": [
  {
   "cell_type": "code",
<<<<<<< HEAD
   "execution_count": 2,
=======
<<<<<<< HEAD
   "execution_count": 1,
>>>>>>> 2ef64e371e52ae17c17f403bfd700c757c13483a
   "metadata": {
    "collapsed": true
   },
=======
   "execution_count": 2,
   "metadata": {},
>>>>>>> 29029a77dd388d354afc036fc2e55729b9c24b3c
   "outputs": [],
   "source": [
    "import pandas as pd\n",
    "import numpy as np"
   ]
  },
  {
   "cell_type": "code",
<<<<<<< HEAD
   "execution_count": 3,
=======
<<<<<<< HEAD
   "execution_count": 2,
>>>>>>> 2ef64e371e52ae17c17f403bfd700c757c13483a
   "metadata": {
    "collapsed": true
   },
=======
   "execution_count": 3,
   "metadata": {},
>>>>>>> 29029a77dd388d354afc036fc2e55729b9c24b3c
   "outputs": [],
   "source": [
    "mortality=pd.read_table(\"data/Compressed Mortality, 1999-2016.txt\")\n",
    "data=pd.read_csv(\"data/datafest2018.csv\")"
   ]
  },
  {
   "cell_type": "code",
   "execution_count": 4,
   "metadata": {
    "collapsed": true
   },
   "outputs": [],
   "source": [
    "mortality=mortality.drop(\"Notes\", axis=1)"
   ]
  },
  {
   "cell_type": "code",
   "execution_count": 5,
   "metadata": {
    "collapsed": true
   },
   "outputs": [],
   "source": [
    "mortality=mortality[0:51]"
   ]
  },
  {
   "cell_type": "code",
   "execution_count": 6,
   "metadata": {
    "collapsed": true
   },
   "outputs": [],
   "source": [
    "US=data[data[\"country\"]==\"US\"]"
   ]
  },
  {
   "cell_type": "code",
   "execution_count": 7,
   "metadata": {},
   "outputs": [
    {
     "data": {
      "text/plain": [
       "array(['TX', 'MA', 'FL', 'NV', 'NY', 'NC', 'OH', 'IL', 'PA', 'MI', 'MN',\n",
       "       'CA', 'AZ', 'IN', 'CT', 'TN', 'NH', 'MO', 'NJ', 'CO', 'GA', 'KY',\n",
       "       'ID', 'DC', 'VA', 'MS', 'UNKNOWN', 'MD', 'RI', 'ME', 'IA', 'WI',\n",
       "       'SC', 'WV', 'OK', 'WA', 'AL', 'NM', 'UT', 'LA', 'AR', 'DE', 'OR',\n",
       "       'PR', 'HI', 'SD', 'MT', 'NE', 'KS', 'AK', 'VT', 'ND', 'WY', 'VI',\n",
       "       'GU', 'AS', 'MP', 'UM'], dtype=object)"
      ]
     },
     "execution_count": 7,
     "metadata": {},
     "output_type": "execute_result"
    }
   ],
   "source": [
    "US.stateProvince.unique()"
   ]
  },
  {
   "cell_type": "code",
   "execution_count": 7,
   "metadata": {
    "collapsed": true
   },
   "outputs": [],
   "source": [
    "USHealth=US[US[\"industry\"]==\"HEALTH_CARE\"]"
   ]
  },
  {
   "cell_type": "code",
   "execution_count": 8,
   "metadata": {
    "collapsed": true
   },
   "outputs": [],
   "source": [
    "states=USHealth.groupby(\"stateProvince\")\n",
    "jobsByState=pd.DataFrame(states.jobId.nunique())"
   ]
  },
  {
   "cell_type": "code",
   "execution_count": 9,
   "metadata": {
    "collapsed": true
   },
   "outputs": [],
   "source": [
    "jobsByState=jobsByState[jobsByState.index!=\"UNKNOWN\"]"
   ]
  },
  {
   "cell_type": "code",
   "execution_count": 18,
   "metadata": {
    "collapsed": true
   },
   "outputs": [],
   "source": [
    "jobsByState.to_csv(\"healthJobsByState.csv\")"
   ]
  },
  {
   "cell_type": "code",
   "execution_count": 10,
   "metadata": {
    "collapsed": true
   },
   "outputs": [],
   "source": [
    "pop = pd.read_csv(\"data/US_Pop.csv\", header=1)"
   ]
  },
  {
   "cell_type": "code",
   "execution_count": 11,
   "metadata": {
    "collapsed": true
   },
   "outputs": [],
   "source": [
    "pop=pop[5:57]"
   ]
  },
  {
   "cell_type": "code",
   "execution_count": 12,
   "metadata": {},
   "outputs": [
    {
     "data": {
      "text/plain": [
       "array(['Alabama', 'Alaska', 'Arizona', 'Arkansas', 'California',\n",
       "       'Colorado', 'Connecticut', 'Delaware', 'District of Columbia',\n",
       "       'Florida', 'Georgia', 'Hawaii', 'Idaho', 'Illinois', 'Indiana',\n",
       "       'Iowa', 'Kansas', 'Kentucky', 'Louisiana', 'Maine', 'Maryland',\n",
       "       'Massachusetts', 'Michigan', 'Minnesota', 'Mississippi', 'Missouri',\n",
       "       'Montana', 'Nebraska', 'Nevada', 'New Hampshire', 'New Jersey',\n",
       "       'New Mexico', 'New York', 'North Carolina', 'North Dakota', 'Ohio',\n",
       "       'Oklahoma', 'Oregon', 'Pennsylvania', 'Rhode Island',\n",
       "       'South Carolina', 'South Dakota', 'Tennessee', 'Texas', 'Utah',\n",
       "       'Vermont', 'Virginia', 'Washington', 'West Virginia', 'Wisconsin',\n",
       "       'Wyoming', 'Puerto Rico'], dtype=object)"
      ]
     },
     "execution_count": 12,
     "metadata": {},
     "output_type": "execute_result"
    }
   ],
   "source": [
    "pop[\"Geography\"].values"
   ]
  },
  {
   "cell_type": "code",
   "execution_count": 13,
   "metadata": {
    "collapsed": true
   },
   "outputs": [],
   "source": [
    "abbrev=[\"AL\",\"AK\",\"AZ\",\"AR\",\"CA\",\"CO\",\"CT\",\"DE\",\"DC\",\"FL\",\"GA\", \"HI\",\"ID\",\"IL\", \"IN\",\"IA\",\"KS\",\"KY\",\"LA\",\"ME\",\"MD\",\"MA\",\"MI\",\"MN\",\"MS\", \"MO\", \"MT\",\"NE\", \"NV\", \"NH\", \"NJ\", \"NM\", \"NY\", \"NC\",\"ND\", \"OH\",\"OK\",\"OR\",\"PA\",\"RI\",\"SC\",\"SD\",\"TN\",\"TX\",\"UT\",\"VT\",\"VA\",\"WA\",\"WV\",\"WI\",\"WY\", \"PR\"]"
   ]
  },
  {
   "cell_type": "code",
   "execution_count": 14,
   "metadata": {
    "collapsed": true
   },
   "outputs": [],
   "source": [
    "pop=pop.reset_index()\n",
    "pop[\"abbrev\"]=pd.Series(abbrev)"
   ]
  },
  {
   "cell_type": "code",
   "execution_count": 94,
   "metadata": {},
   "outputs": [
    {
     "data": {
      "text/plain": [
       "Index(['AK', 'AL', 'AR', 'AZ', 'CA', 'CO', 'CT', 'DC', 'DE', 'FL', 'GA', 'HI',\n",
       "       'IA', 'ID', 'IL', 'IN', 'KS', 'KY', 'LA', 'MA', 'MD', 'ME', 'MI', 'MN',\n",
       "       'MO', 'MS', 'MT', 'NC', 'ND', 'NE', 'NH', 'NJ', 'NM', 'NV', 'NY', 'OH',\n",
       "       'OK', 'OR', 'PA', 'PR', 'RI', 'SC', 'SD', 'TN', 'TX', 'UT', 'VA', 'VT',\n",
       "       'WA', 'WI', 'WV', 'WY'],\n",
       "      dtype='object', name='stateProvince')"
      ]
     },
     "execution_count": 94,
     "metadata": {},
     "output_type": "execute_result"
    }
   ],
   "source": [
    "jobsByState.index"
   ]
  },
  {
   "cell_type": "code",
   "execution_count": 15,
   "metadata": {
    "collapsed": true
   },
   "outputs": [],
   "source": [
    "merge=pd.merge(jobsByState, pop, left_index=True, right_on=\"abbrev\")"
   ]
  },
  {
   "cell_type": "code",
   "execution_count": 16,
   "metadata": {
    "collapsed": true
   },
   "outputs": [],
   "source": [
    "merge[\"JobsToPop\"]=merge[\"jobId\"]/merge['Population Estimate (as of July 1) - 2017']"
   ]
  },
  {
   "cell_type": "code",
   "execution_count": 17,
   "metadata": {
    "collapsed": true
   },
   "outputs": [],
   "source": [
    "merge[\"JobsToPop\"]=merge[\"JobsToPop\"]*1000"
   ]
  },
  {
   "cell_type": "code",
   "execution_count": 102,
   "metadata": {
    "collapsed": true
   },
   "outputs": [],
   "source": [
    "merge.to_csv(\"jobsPerPop.csv\")"
   ]
  },
  {
   "cell_type": "code",
   "execution_count": 18,
   "metadata": {},
   "outputs": [
    {
     "data": {
      "text/html": [
       "<div>\n",
       "<table border=\"1\" class=\"dataframe\">\n",
       "  <thead>\n",
       "    <tr style=\"text-align: right;\">\n",
       "      <th></th>\n",
       "      <th>jobId</th>\n",
       "      <th>index</th>\n",
       "      <th>Id</th>\n",
       "      <th>Id2</th>\n",
       "      <th>Geography</th>\n",
       "      <th>April 1, 2010 - Census</th>\n",
       "      <th>April 1, 2010 - Estimates Base</th>\n",
       "      <th>Population Estimate (as of July 1) - 2010</th>\n",
       "      <th>Population Estimate (as of July 1) - 2011</th>\n",
       "      <th>Population Estimate (as of July 1) - 2012</th>\n",
       "      <th>Population Estimate (as of July 1) - 2013</th>\n",
       "      <th>Population Estimate (as of July 1) - 2014</th>\n",
       "      <th>Population Estimate (as of July 1) - 2015</th>\n",
       "      <th>Population Estimate (as of July 1) - 2016</th>\n",
       "      <th>Population Estimate (as of July 1) - 2017</th>\n",
       "      <th>abbrev</th>\n",
       "      <th>JobsToPop</th>\n",
       "    </tr>\n",
       "  </thead>\n",
       "  <tbody>\n",
       "    <tr>\n",
       "      <th>1</th>\n",
       "      <td>126</td>\n",
       "      <td>6</td>\n",
       "      <td>0400000US02</td>\n",
       "      <td>2.0</td>\n",
       "      <td>Alaska</td>\n",
       "      <td>710231</td>\n",
       "      <td>710249</td>\n",
       "      <td>714015</td>\n",
       "      <td>722259</td>\n",
       "      <td>730825</td>\n",
       "      <td>736760</td>\n",
       "      <td>736759</td>\n",
       "      <td>737979</td>\n",
       "      <td>741522</td>\n",
       "      <td>739795</td>\n",
       "      <td>AK</td>\n",
       "      <td>0.170317</td>\n",
       "    </tr>\n",
       "    <tr>\n",
       "      <th>0</th>\n",
       "      <td>389</td>\n",
       "      <td>5</td>\n",
       "      <td>0400000US01</td>\n",
       "      <td>1.0</td>\n",
       "      <td>Alabama</td>\n",
       "      <td>4779736</td>\n",
       "      <td>4780135</td>\n",
       "      <td>4785579</td>\n",
       "      <td>4798649</td>\n",
       "      <td>4813946</td>\n",
       "      <td>4827660</td>\n",
       "      <td>4840037</td>\n",
       "      <td>4850858</td>\n",
       "      <td>4860545</td>\n",
       "      <td>4874747</td>\n",
       "      <td>AL</td>\n",
       "      <td>0.079799</td>\n",
       "    </tr>\n",
       "    <tr>\n",
       "      <th>3</th>\n",
       "      <td>314</td>\n",
       "      <td>8</td>\n",
       "      <td>0400000US05</td>\n",
       "      <td>5.0</td>\n",
       "      <td>Arkansas</td>\n",
       "      <td>2915918</td>\n",
       "      <td>2916031</td>\n",
       "      <td>2921737</td>\n",
       "      <td>2938640</td>\n",
       "      <td>2949208</td>\n",
       "      <td>2956780</td>\n",
       "      <td>2964800</td>\n",
       "      <td>2975626</td>\n",
       "      <td>2988231</td>\n",
       "      <td>3004279</td>\n",
       "      <td>AR</td>\n",
       "      <td>0.104518</td>\n",
       "    </tr>\n",
       "    <tr>\n",
       "      <th>2</th>\n",
       "      <td>904</td>\n",
       "      <td>7</td>\n",
       "      <td>0400000US04</td>\n",
       "      <td>4.0</td>\n",
       "      <td>Arizona</td>\n",
       "      <td>6392017</td>\n",
       "      <td>6392309</td>\n",
       "      <td>6407002</td>\n",
       "      <td>6465488</td>\n",
       "      <td>6544211</td>\n",
       "      <td>6616124</td>\n",
       "      <td>6706435</td>\n",
       "      <td>6802262</td>\n",
       "      <td>6908642</td>\n",
       "      <td>7016270</td>\n",
       "      <td>AZ</td>\n",
       "      <td>0.128843</td>\n",
       "    </tr>\n",
       "    <tr>\n",
       "      <th>4</th>\n",
       "      <td>3919</td>\n",
       "      <td>9</td>\n",
       "      <td>0400000US06</td>\n",
       "      <td>6.0</td>\n",
       "      <td>California</td>\n",
       "      <td>37253956</td>\n",
       "      <td>37254518</td>\n",
       "      <td>37327690</td>\n",
       "      <td>37672654</td>\n",
       "      <td>38019006</td>\n",
       "      <td>38347383</td>\n",
       "      <td>38701278</td>\n",
       "      <td>39032444</td>\n",
       "      <td>39296476</td>\n",
       "      <td>39536653</td>\n",
       "      <td>CA</td>\n",
       "      <td>0.099123</td>\n",
       "    </tr>\n",
       "  </tbody>\n",
       "</table>\n",
       "</div>"
      ],
      "text/plain": [
       "   jobId  index           Id  Id2   Geography  April 1, 2010 - Census  \\\n",
       "1    126      6  0400000US02  2.0      Alaska                  710231   \n",
       "0    389      5  0400000US01  1.0     Alabama                 4779736   \n",
       "3    314      8  0400000US05  5.0    Arkansas                 2915918   \n",
       "2    904      7  0400000US04  4.0     Arizona                 6392017   \n",
       "4   3919      9  0400000US06  6.0  California                37253956   \n",
       "\n",
       "   April 1, 2010 - Estimates Base  Population Estimate (as of July 1) - 2010  \\\n",
       "1                          710249                                     714015   \n",
       "0                         4780135                                    4785579   \n",
       "3                         2916031                                    2921737   \n",
       "2                         6392309                                    6407002   \n",
       "4                        37254518                                   37327690   \n",
       "\n",
       "   Population Estimate (as of July 1) - 2011  \\\n",
       "1                                     722259   \n",
       "0                                    4798649   \n",
       "3                                    2938640   \n",
       "2                                    6465488   \n",
       "4                                   37672654   \n",
       "\n",
       "   Population Estimate (as of July 1) - 2012  \\\n",
       "1                                     730825   \n",
       "0                                    4813946   \n",
       "3                                    2949208   \n",
       "2                                    6544211   \n",
       "4                                   38019006   \n",
       "\n",
       "   Population Estimate (as of July 1) - 2013  \\\n",
       "1                                     736760   \n",
       "0                                    4827660   \n",
       "3                                    2956780   \n",
       "2                                    6616124   \n",
       "4                                   38347383   \n",
       "\n",
       "   Population Estimate (as of July 1) - 2014  \\\n",
       "1                                     736759   \n",
       "0                                    4840037   \n",
       "3                                    2964800   \n",
       "2                                    6706435   \n",
       "4                                   38701278   \n",
       "\n",
       "   Population Estimate (as of July 1) - 2015  \\\n",
       "1                                     737979   \n",
       "0                                    4850858   \n",
       "3                                    2975626   \n",
       "2                                    6802262   \n",
       "4                                   39032444   \n",
       "\n",
       "   Population Estimate (as of July 1) - 2016  \\\n",
       "1                                     741522   \n",
       "0                                    4860545   \n",
       "3                                    2988231   \n",
       "2                                    6908642   \n",
       "4                                   39296476   \n",
       "\n",
       "   Population Estimate (as of July 1) - 2017 abbrev  JobsToPop  \n",
       "1                                     739795     AK   0.170317  \n",
       "0                                    4874747     AL   0.079799  \n",
       "3                                    3004279     AR   0.104518  \n",
       "2                                    7016270     AZ   0.128843  \n",
       "4                                   39536653     CA   0.099123  "
      ]
     },
     "execution_count": 18,
     "metadata": {},
     "output_type": "execute_result"
    }
   ],
   "source": [
    "merge.head()"
   ]
  },
  {
   "cell_type": "code",
   "execution_count": 19,
   "metadata": {},
   "outputs": [
    {
     "data": {
      "text/html": [
       "<div>\n",
       "<table border=\"1\" class=\"dataframe\">\n",
       "  <thead>\n",
       "    <tr style=\"text-align: right;\">\n",
       "      <th></th>\n",
       "      <th>State</th>\n",
       "      <th>State Code</th>\n",
       "      <th>Deaths</th>\n",
       "      <th>Population</th>\n",
       "      <th>Crude Rate</th>\n",
       "      <th>Age Adjusted Rate</th>\n",
       "    </tr>\n",
       "  </thead>\n",
       "  <tbody>\n",
       "    <tr>\n",
       "      <th>0</th>\n",
       "      <td>Alabama</td>\n",
       "      <td>1.0</td>\n",
       "      <td>104375.0</td>\n",
       "      <td>9717175.0</td>\n",
       "      <td>1074.1</td>\n",
       "      <td>922.3</td>\n",
       "    </tr>\n",
       "    <tr>\n",
       "      <th>1</th>\n",
       "      <td>Alaska</td>\n",
       "      <td>2.0</td>\n",
       "      <td>8810.0</td>\n",
       "      <td>1479603.0</td>\n",
       "      <td>595.4</td>\n",
       "      <td>746.0</td>\n",
       "    </tr>\n",
       "    <tr>\n",
       "      <th>2</th>\n",
       "      <td>Arizona</td>\n",
       "      <td>4.0</td>\n",
       "      <td>110944.0</td>\n",
       "      <td>13748636.0</td>\n",
       "      <td>806.9</td>\n",
       "      <td>673.5</td>\n",
       "    </tr>\n",
       "    <tr>\n",
       "      <th>3</th>\n",
       "      <td>Arkansas</td>\n",
       "      <td>5.0</td>\n",
       "      <td>63373.0</td>\n",
       "      <td>5966101.0</td>\n",
       "      <td>1062.2</td>\n",
       "      <td>897.4</td>\n",
       "    </tr>\n",
       "    <tr>\n",
       "      <th>4</th>\n",
       "      <td>California</td>\n",
       "      <td>6.0</td>\n",
       "      <td>521446.0</td>\n",
       "      <td>78243957.0</td>\n",
       "      <td>666.4</td>\n",
       "      <td>620.0</td>\n",
       "    </tr>\n",
       "  </tbody>\n",
       "</table>\n",
       "</div>"
      ],
      "text/plain": [
       "        State  State Code    Deaths  Population  Crude Rate  Age Adjusted Rate\n",
       "0     Alabama         1.0  104375.0   9717175.0      1074.1              922.3\n",
       "1      Alaska         2.0    8810.0   1479603.0       595.4              746.0\n",
       "2     Arizona         4.0  110944.0  13748636.0       806.9              673.5\n",
       "3    Arkansas         5.0   63373.0   5966101.0      1062.2              897.4\n",
       "4  California         6.0  521446.0  78243957.0       666.4              620.0"
      ]
     },
     "execution_count": 19,
     "metadata": {},
     "output_type": "execute_result"
    }
   ],
   "source": [
    "mortality.head()"
   ]
  },
  {
   "cell_type": "code",
   "execution_count": 20,
   "metadata": {
    "collapsed": true
   },
   "outputs": [],
   "source": [
    "merge=pd.merge(mortality, merge, left_on=\"State\", right_on=\"Geography\")"
   ]
  },
  {
   "cell_type": "code",
   "execution_count": 23,
   "metadata": {},
   "outputs": [
    {
     "data": {
      "text/html": [
       "<div>\n",
       "<table border=\"1\" class=\"dataframe\">\n",
       "  <thead>\n",
       "    <tr style=\"text-align: right;\">\n",
       "      <th></th>\n",
       "      <th>Age Adjusted Rate</th>\n",
       "      <th>jobId</th>\n",
       "    </tr>\n",
       "  </thead>\n",
       "  <tbody>\n",
       "    <tr>\n",
       "      <th>Age Adjusted Rate</th>\n",
       "      <td>1.00000</td>\n",
       "      <td>-0.23531</td>\n",
       "    </tr>\n",
       "    <tr>\n",
       "      <th>jobId</th>\n",
       "      <td>-0.23531</td>\n",
       "      <td>1.00000</td>\n",
       "    </tr>\n",
       "  </tbody>\n",
       "</table>\n",
       "</div>"
      ],
      "text/plain": [
       "                   Age Adjusted Rate    jobId\n",
       "Age Adjusted Rate            1.00000 -0.23531\n",
       "jobId                       -0.23531  1.00000"
      ]
     },
     "execution_count": 23,
     "metadata": {},
     "output_type": "execute_result"
    }
   ],
   "source": [
    "merge[[\"Age Adjusted Rate\", \"jobId\"]].corr()"
   ]
  },
  {
   "cell_type": "code",
   "execution_count": 25,
   "metadata": {
    "collapsed": true
   },
   "outputs": [],
   "source": [
    "merge.to_csv(\"mortality_healthJobs.csv\")"
   ]
  }
 ],
 "metadata": {
  "anaconda-cloud": {},
  "kernelspec": {
   "display_name": "Python 3",
   "language": "python",
   "name": "python3"
  },
  "language_info": {
   "codemirror_mode": {
    "name": "ipython",
    "version": 3
   },
   "file_extension": ".py",
   "mimetype": "text/x-python",
   "name": "python",
   "nbconvert_exporter": "python",
   "pygments_lexer": "ipython3",
   "version": "3.6.2"
  }
 },
 "nbformat": 4,
 "nbformat_minor": 1
}
